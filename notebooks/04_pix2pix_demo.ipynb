# Title: Image Translation with Pix2Pix

from src.task04_pix2pix.model import Pix2Pix
from PIL import Image

# Load pre-trained Pix2Pix model
pix2pix = Pix2Pix.load_model("path/to/pretrained_model")

# Load input image
input_image = Image.open("path/to/input_image.jpg")

# Perform translation
output_image = pix2pix.translate(input_image)

# Display images
input_image.show(title="Input Image")
output_image.show(title="Translated Image")
