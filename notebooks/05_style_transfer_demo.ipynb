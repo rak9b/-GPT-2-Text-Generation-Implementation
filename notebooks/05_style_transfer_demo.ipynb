# Title: Neural Style Transfer

from src.task05_style_transfer.style_transfer import StyleTransfer
from PIL import Image

# Load content and style images
content_image_path = "path/to/content.jpg"
style_image_path = "path/to/style.jpg"

style_transfer = StyleTransfer(content_image_path, style_image_path)

# Perform style transfer
output_image = style_transfer.generate(num_steps=1000)

# Display results
output_image.show()
