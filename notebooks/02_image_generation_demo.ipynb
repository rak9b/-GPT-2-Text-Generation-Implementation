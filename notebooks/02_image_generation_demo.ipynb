# Title: Image Generation with Stable Diffusion

# Import libraries
from transformers import StableDiffusionPipeline

# Initialize pipeline
pipeline = StableDiffusionPipeline.from_pretrained("CompVis/stable-diffusion-v1-4")
pipeline.to("cuda")

# Generate images from text prompts
prompt = "A futuristic cityscape at sunset"
image = pipeline(prompt).images[0]

# Display the generated image
image.show()
