# Title: Text Generation with Markov Chains

from src.task03_markov_chains.markov_model import MarkovChain

# Initialize Markov Chain model
corpus = "Add your large text corpus here..."
model = MarkovChain(corpus)

# Generate text
generated_text = model.generate(start_word="Once", length=50)
print("Generated Text:")
print(generated_text)
